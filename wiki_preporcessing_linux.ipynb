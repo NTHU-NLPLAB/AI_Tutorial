{
 "cells": [
  {
   "cell_type": "markdown",
   "metadata": {},
   "source": [
    "<font face=\"微軟正黑體\" size=5>1. Dump files</font><br>"
   ]
  },
  {
   "cell_type": "code",
   "execution_count": 3,
   "metadata": {},
   "outputs": [],
   "source": [
    "#1. Dump files\n",
    "\n",
    "#dump langlinks file\n",
    "#!wget https://dumps.wikimedia.org/enwiki/latest/enwiki-latest-langlinks.sql.gz\n",
    "\n",
    "#dump file mapping pageid to page title\n",
    "#!wget https://dumps.wikimedia.org/enwiki/latest/enwiki-latest-page.sql.gz\n",
    "\n",
    "#dump redirect file\n",
    "#!wget https://dumps.wikimedia.org/enwiki/latest/enwiki-latest-redirect.sql.gz\n",
    "\n",
    "#dump wiki article\n",
    "#!wget https://dumps.wikimedia.org/enwiki/latest/enwiki-latest-pages-articles-multistream.xml.bz2\n"
   ]
  },
  {
   "cell_type": "markdown",
   "metadata": {},
   "source": [
    "<font face=\"微軟正黑體\" size=5>2. 找出英文pageid 與title的對應與中英文對應的link</font><br>\n",
    "<font face=\"微軟正黑體\" size=5>output1：en.page.id.txt; 形式： page_id \\t en_title</font><br>"
   ]
  },
  {
   "cell_type": "code",
   "execution_count": 20,
   "metadata": {},
   "outputs": [],
   "source": [
    "%%bash\n",
    "# 2. 找出英文pageid 與title的對應與中英文對應的link\n",
    "# output1：en.page.id.txt; 形式： page_id \\t en_title\n",
    "\n",
    "zgrep -P -o \"\\([0-9]+?,0,'[^'].+?'\" enwiki-latest-page.sql.gz | sed -e 's/^(//' | sed -e \"s/,0,/\\t/g\" | sort -t $'\\t' -k1,1 > temp_pageid_strorder.txt\n",
    "cat temp_pageid_strorder.txt | sort -n -t $'\\t' -k1,1 > en.page.id.txt\n"
   ]
  },
  {
   "cell_type": "code",
   "execution_count": 21,
   "metadata": {},
   "outputs": [
    {
     "name": "stdout",
     "output_type": "stream",
     "text": [
      "10\t'AccessibleComputing'\n",
      "12\t'Anarchism'\n",
      "13\t'AfghanistanHistory'\n",
      "14\t'AfghanistanGeography'\n",
      "15\t'AfghanistanPeople'\n"
     ]
    }
   ],
   "source": [
    "!head -5 en.page.id.txt"
   ]
  },
  {
   "cell_type": "code",
   "execution_count": 22,
   "metadata": {},
   "outputs": [
    {
     "name": "stdout",
     "output_type": "stream",
     "text": [
      "24069615\t'Senior_(education)'\n"
     ]
    }
   ],
   "source": [
    "!grep \"Senior_(education)\" en.page.id.txt"
   ]
  },
  {
   "cell_type": "markdown",
   "metadata": {},
   "source": [
    "<font face=\"微軟正黑體\" size=5>output2：ec.link.txt; 形式： page_id \\t en_title \\t zh_title</font>"
   ]
  },
  {
   "cell_type": "code",
   "execution_count": 23,
   "metadata": {},
   "outputs": [],
   "source": [
    "%%bash\n",
    "\n",
    "#output2：ec.link.txt; 形式： page_id \\t en_title \\t zh_title\n",
    "#有些項目grep會切錯，所以grep做兩次\n",
    "zgrep -P -o \"\\([0-9]+?,'zh','[^'].+?'\\)\" enwiki-latest-langlinks.sql.gz > temp0.txt\n",
    "grep -P -o \"\\([0-9]+?,'zh','.+?'\\)\" temp0.txt | sort -t, -k1,1 > temp1_s.txt\n",
    "grep -P -o \"[0-9]+?,'zh','.+?'\" temp1_s.txt | sed -e \"s/,'zh',/\\t/\" | sort -t $'\\t' -k1,1 > temp1_tab.txt\n",
    "join -t $'\\t' temp_pageid_strorder.txt temp1_tab.txt | sort -n -t $'\\t' -k1,1 > ec.link.txt\n"
   ]
  },
  {
   "cell_type": "code",
   "execution_count": 24,
   "metadata": {},
   "outputs": [
    {
     "name": "stdout",
     "output_type": "stream",
     "text": [
      "12\t'Anarchism'\t'无政府主义'\n",
      "25\t'Autism'\t'自閉症'\n",
      "39\t'Albedo'\t'反照率'\n",
      "290\t'A','\t'A'\n",
      "303\t'Alabama'\t'亚拉巴马州'\n",
      "305\t'Achilles'\t'阿喀琉斯'\n",
      "307\t'Abraham_Lincoln'\t'亚伯拉罕·林肯'\n",
      "308\t'Aristotle'\t'亚里士多德'\n",
      "309\t'An_American_in_Paris'\t'一個美國人在巴黎'\n",
      "316\t'Academy_Award_for_Best_Production_Design'\t'奥斯卡最佳艺术指导奖'\n"
     ]
    }
   ],
   "source": [
    "!head ec.link.txt"
   ]
  },
  {
   "cell_type": "markdown",
   "metadata": {},
   "source": [
    "<font face=\"微軟正黑體\" size=5>3. 找出redirect page</font><br>\n",
    "<font face=\"微軟正黑體\" size=5>檔名：en.redirect.txt; 形式： from_page_id \\t from_en_title \\t to_en_title</font>"
   ]
  },
  {
   "cell_type": "code",
   "execution_count": 28,
   "metadata": {},
   "outputs": [],
   "source": [
    "%%bash\n",
    "#3. 找出redirect page\n",
    "#檔名：en.redirect.txt; 形式： from_page_id \\t from_en_title \\t to_en_title\n",
    "zgrep -P -o \"[0-9]+?,0,'[^'].+?'\" enwiki-latest-redirect.sql.gz | sort -t, -k1,1 | sed -e \"s/,0,/\\t/g\" > temp_re_tab.txt\n",
    "join -t $'\\t' temp_pageid_strorder.txt temp_re_tab.txt | sort -n -t $'\\t' -k1,1 > en.redirect.txt\n"
   ]
  },
  {
   "cell_type": "code",
   "execution_count": 29,
   "metadata": {},
   "outputs": [
    {
     "name": "stdout",
     "output_type": "stream",
     "text": [
      "19828134\t'Plant'\t'植物'\n"
     ]
    }
   ],
   "source": [
    "!grep \"'Plant'\" ec.link.txt"
   ]
  },
  {
   "cell_type": "code",
   "execution_count": 31,
   "metadata": {},
   "outputs": [
    {
     "name": "stdout",
     "output_type": "stream",
     "text": [
      "10\t'AccessibleComputing'\t'Computer_accessibility'\n",
      "13\t'AfghanistanHistory'\t'History_of_Afghanistan'\n",
      "14\t'AfghanistanGeography'\t'Geography_of_Afghanistan'\n",
      "15\t'AfghanistanPeople'\t'Demographics_of_Afghanistan'\n",
      "18\t'AfghanistanCommunications'\t'Communications_in_Afghanistan'\n",
      "19\t'AfghanistanTransportations'\t'Transport_in_Afghanistan'\n",
      "20\t'AfghanistanMilitary'\t'Afghan_Armed_Forces'\n",
      "21\t'AfghanistanTransnationalIssues'\t'Foreign_relations_of_Afghanistan'\n",
      "23\t'AssistiveTechnology'\t'Assistive_technology'\n",
      "24\t'AmoeboidTaxa'\t'Amoeba'\n"
     ]
    }
   ],
   "source": [
    "!head en.redirect.txt"
   ]
  },
  {
   "cell_type": "markdown",
   "metadata": {},
   "source": [
    "<font face=\"微軟正黑體\" size=5>4. Count parentheses (for category、BRT...)</font><br>\n",
    "<font face=\"微軟正黑體\" size=5>output：en.link.pe.txt; format：count \\t (word)</font><br>\n",
    "<font face=\"微軟正黑體\" size=5>output：en.link.txt_pe.txt; format：count \\t text (word)</font><br>"
   ]
  },
  {
   "cell_type": "code",
   "execution_count": null,
   "metadata": {},
   "outputs": [],
   "source": [
    "%%bash\n",
    "#4. Count parentheses (for category、BRT...)\n",
    "#output：en.link.pe.txt; format：count \\t (word)\n",
    "#output：en.link.txt_pe.txt; format：count \\t text (word)\n",
    "\n",
    "bzgrep -o '\\[\\[[^]#:][^]:]*\\]\\]' enwiki-latest-pages-articles-multistream.xml.bz2 | sed \"s/#.*|/|/g\" | sed \"s/#.*]]/]]/g\" | sort | gzip > en.link.anchor.gz\n",
    "zgrep -P -o '\\([^)]*?\\)' en.link.anchor.gz | sort | uniq -c | sort -k1nr > en.link.pe.txt\n",
    "zgrep -P -o '\\[\\[[^|]*?\\)(\\]|\\|)' en.link.anchor.gz | sed \"s/^..//\" | sed \"s/.$//\" | sort | uniq -c | sort -k1nr > en.link.txt_pe.txt"
   ]
  },
  {
   "cell_type": "code",
   "execution_count": 5,
   "metadata": {},
   "outputs": [
    {
     "name": "stdout",
     "output_type": "stream",
     "text": [
      "  14967 (plant)\n"
     ]
    }
   ],
   "source": [
    "!grep '(plant)' en.link.pe.txt"
   ]
  },
  {
   "cell_type": "code",
   "execution_count": 6,
   "metadata": {},
   "outputs": [
    {
     "name": "stdout",
     "output_type": "stream",
     "text": [
      "    881 Iris (plant)\n",
      "    385 Cutting (plant)\n",
      "    341 Narcissus (plant)\n",
      "    278 Squash (plant)\n",
      "    273 Viola (plant)\n",
      "    221 Morus (plant)\n",
      "    203 Canna (plant)\n",
      "    194 Reed (plant)\n",
      "    171 Croton (plant)\n",
      "    134 iris (plant)\n",
      "grep: write error: Broken pipe\n"
     ]
    }
   ],
   "source": [
    "! grep '(plant)' en.link.txt_pe.txt | head"
   ]
  },
  {
   "cell_type": "markdown",
   "metadata": {},
   "source": [
    "<font face=\"微軟正黑體\" size=5>5. Redirect Link</font><br>\n",
    "<font face=\"微軟正黑體\" size=5>output：en.link.redirect.txt</font><br>\n",
    "<font face=\"微軟正黑體\" size=5>format：wn_lemma \\t redirect_page_title \\t zh_title \\t sum(count_#) \\t Count({'[link_1|anchor_1]':count_1 , ... })</font><br>"
   ]
  },
  {
   "cell_type": "code",
   "execution_count": null,
   "metadata": {},
   "outputs": [],
   "source": [
    "#5.找出wiki page中所有內部超連結並統計次數[[link|anchor]]\n",
    "!time bzgrep -o '\\[\\[[^]:#][^]:][^]:]*\\]\\]' enwiki-latest-pages-articles-multistream.xml.bz2 | sed \"s/#.*|/|/g\" | sed \"s/#.*]]/]]/g\" | sort | uniq -c | sort -nr | sed -e \"s/^ *//\" | gzip > en.link.gz"
   ]
  },
  {
   "cell_type": "code",
   "execution_count": 41,
   "metadata": {},
   "outputs": [],
   "source": [
    "import re, sys, os\n",
    "from nltk.stem.wordnet import WordNetLemmatizer\n",
    "from nltk.corpus import wordnet as wn\n",
    "from collections import defaultdict, Counter\n",
    "import gzip\n",
    "\n",
    "lemmatizer = WordNetLemmatizer()\n",
    "\n",
    "def is_in_wn(word):\n",
    "    if wn.synsets(word): return True\n",
    "    if wn.synsets(lemmatizer.lemmatize(word, 'n')): return True\n",
    "    return False\n",
    "\n",
    "def clean(text):\n",
    "    return re.sub(re.compile('\\(.*?\\)'), '', text).lstrip().strip().replace(' ', '_')\n",
    "\n"
   ]
  },
  {
   "cell_type": "code",
   "execution_count": 8,
   "metadata": {},
   "outputs": [],
   "source": [
    "#找出所有在wordnet中有定義的anchor\n",
    "# Step 1: time zcat en.link.gz | python wiki.sense.py | gzip > en.link.wn.gz\n",
    "fp = open(\"en.link.wn\", \"w\") #(\"link.anchor.cam.txt\", \"a\")\n",
    "for line in gzip.open('en.link.gz','rt').readlines(): # en.link.gz > link.anchor.cam.txt (303810)\n",
    "    line = line.lstrip().strip()\n",
    "    start = line.index(' ')\n",
    "    count, linkanchor = line[:start], line[start+1:]\n",
    "    anchor = linkanchor.split('|')[1][:-2] if '|' in linkanchor else linkanchor[2:-2]\n",
    "    link = linkanchor.split('|')[0][2:] if '|' in linkanchor else linkanchor[2:-2]\n",
    "    if len(anchor) == 0:  #note: some anchors are empty string\n",
    "        continue\n",
    "    if (not anchor[0].isupper()) and is_in_wn(anchor) and wn.synsets(clean(link)):\n",
    "        fp.write('\\t'.join( [linkanchor, lemmatizer.lemmatize(anchor, 'n'), count, '\\n']) )\n",
    "            #print ('\\t'.join( [linkanchor, lemmatizer.lemmatize(anchor, 'n'), count]) )\n",
    "fp.close()"
   ]
  },
  {
   "cell_type": "code",
   "execution_count": 1,
   "metadata": {},
   "outputs": [
    {
     "name": "stdout",
     "output_type": "stream",
     "text": [
      "[[Number sign|]]\n",
      "[[Richmond Shipyards|]]\n",
      "[[Me Too movement|]]\n",
      "[[Notre dame football|]]\n",
      "[[Oklahoma Sooners football|]]\n",
      "[[Army Black Knights football|]]\n",
      "[[Number 1's (Mariah Carey album)|]]\n",
      "[[Me Too (hashtag)|]]\n",
      "[[willpower (will.i.am album)|]]\n",
      "[[chart-topper|]]\n",
      "/bin/grep: write error: Broken pipe\n",
      "\n",
      "gzip: stdout: Broken pipe\n"
     ]
    }
   ],
   "source": [
    "!zgrep -o \"\\[\\[[^]]*|\\]\\]\" en.link.gz | head # note: empty source in anchor"
   ]
  },
  {
   "cell_type": "code",
   "execution_count": 10,
   "metadata": {},
   "outputs": [],
   "source": [
    "!gzip en.link.wn"
   ]
  },
  {
   "cell_type": "code",
   "execution_count": 9,
   "metadata": {},
   "outputs": [
    {
     "name": "stdout",
     "output_type": "stream",
     "text": [
      "[[moth]]\tmoth\t80482\t\n",
      "[[village]]\tvillage\t64800\t\n",
      "[[species]]\tspecie\t55654\t\n",
      "[[census]]\tcensus\t54188\t\n",
      "[[genus]]\tgenus\t48168\t\n",
      "[[Association football|footballer]]\tfootballer\t46704\t\n",
      "[[family (biology)|family]]\tfamily\t39782\t\n",
      "[[basketball]]\tbasketball\t39640\t\n",
      "[[association football|footballer]]\tfootballer\t38523\t\n",
      "[[actor]]\tactor\t36875\t\n",
      "\n",
      "gzip: stdout: Broken pipe\n"
     ]
    }
   ],
   "source": [
    "!zcat en.link.wn.gz | head"
   ]
  },
  {
   "cell_type": "code",
   "execution_count": 45,
   "metadata": {},
   "outputs": [],
   "source": [
    "pageid={}\n",
    "for line in open('en.page.id.txt').readlines():\n",
    "    if '\\t' in line:\n",
    "        try:\n",
    "            pid, title = line.lstrip().strip().split('\\t')\n",
    "            title = title.replace('\\'', '')\n",
    "            pageid[title] = pid \n",
    "        except:\n",
    "            pass\n",
    "        \n",
    "def title_to_pageid(title):\n",
    "    title = title.replace(' ', '_')\n",
    "    if title in pageid:\n",
    "        return pageid[title]\n",
    "    else:\n",
    "        return '0'\n",
    "\n",
    "\n",
    "\n",
    "redirect, recase, = {}, {} # Party of the first part\tParty_(law)\n",
    "for line in open('en.redirect.txt').readlines():\n",
    "    try:\n",
    "        line = line.replace('\\'','')\n",
    "        from_id, mention, page =line.lstrip().strip().split('\\t')\n",
    "        mention = mention.replace('_', ' ')\n",
    "        if mention.isupper() == True:\n",
    "            #print(mention)\n",
    "            redirect[mention] = page.replace('_', ' ')\n",
    "        else:    \n",
    "            redirect[mention.lower()] = page.replace('_', ' ')\n",
    "        page = page.replace('_', ' ')\n",
    "        recase[page.lower()] = page        \n",
    "    except:\n",
    "        pass    \n",
    "\n",
    "    \n"
   ]
  },
  {
   "cell_type": "code",
   "execution_count": 46,
   "metadata": {},
   "outputs": [],
   "source": [
    "def redirect_link(link):\n",
    "    if link in redirect:\n",
    "        return redirect[link]\n",
    "    elif link.lower() in redirect:\n",
    "        return redirect[link.lower()]\n",
    "    elif link.lower() in recase:\n",
    "        return recase[link.lower()]\n",
    "    elif link.capitalize().replace(' ', '_') in pageid:\n",
    "        #print(link.capitalize())\n",
    "        return link.capitalize()\n",
    "    else:\n",
    "        return link"
   ]
  },
  {
   "cell_type": "code",
   "execution_count": 47,
   "metadata": {},
   "outputs": [],
   "source": [
    "#列出超連結中link對應的redirect page\n",
    "# Step 2: time zcat en.link.wn.gz | python wiki.sense.py | gzip > en.link.redirect.gz\n",
    "lemma_page = defaultdict(lambda: defaultdict(lambda: Counter()))\n",
    "\n",
    "for line in gzip.open('en.link.wn.gz','rt').readlines():  # en.link.wn.gz > en.link.redirect.gz \n",
    "    linkanchor, lemma, times = line.lstrip().strip().split('\\t') # party\t[[party (law)|party]]\t23\n",
    "    anchor = linkanchor.split('|')[1][:-2] if '|' in linkanchor else linkanchor[2:-2]\n",
    "    link = linkanchor.split('|')[0][2:] if '|' in linkanchor else linkanchor[2:-2]\n",
    "    lemma_page[lemma][redirect_link(link)][linkanchor] += int(times)\n",
    "\n",
    "list1 = [ (lemma, page, lemma_page[lemma][page], sum(lemma_page[lemma][page].values())) for lemma in lemma_page for page in lemma_page[lemma] ]\n",
    "list1.sort(key=lambda x: (x[0].lower(), -x[3]))\n",
    "# 12\tAnarchism\t->無政府主義\n",
    "langlink = {}\n",
    "for line in open('ec.link.txt').readlines():\n",
    "    try:\n",
    "        line = line.replace('\\'','')\n",
    "        e, c  = line.strip().replace('->', '').split('\\t')[1:]\n",
    "        langlink[e.replace('_', ' ')] = c\n",
    "    except:\n",
    "        pass\n"
   ]
  },
  {
   "cell_type": "code",
   "execution_count": 36,
   "metadata": {},
   "outputs": [],
   "source": [
    "#truecase_lemma_page = defaultdict(lambda: defaultdict(lambda: Counter())) \n",
    "fp_l = open(\"en.link.redirect.txt\", \"w\")\n",
    "for lemma, page, links, total in list1:\n",
    "    '''if page in truecase:\n",
    "        oldlemma, oldcount = truecase[page]\n",
    "        if total > oldcount:\n",
    "            truecase[page] = (lemma, oldcount+total, links)  \n",
    "    else:\n",
    "        truecase[] = () if '''\n",
    "    fp_l.write('\\t'.join( [lemma, page, langlink[page] if page in langlink else '___', str(total), str(links),'\\n']))\n",
    "    #print ('\\t'.join( [lemma, page, langlink[page] if page in langlink else '___', str(total), str(links)]))\n",
    "fp_l.close() "
   ]
  },
  {
   "cell_type": "code",
   "execution_count": 64,
   "metadata": {},
   "outputs": [
    {
     "name": "stdout",
     "output_type": "stream",
     "text": [
      "ACiD Productions\n"
     ]
    }
   ],
   "source": [
    "print(redirect['acid'])"
   ]
  },
  {
   "cell_type": "code",
   "execution_count": 48,
   "metadata": {
    "scrolled": false
   },
   "outputs": [
    {
     "name": "stdout",
     "output_type": "stream",
     "text": [
      "'hood\t'hood\t___\t3\tCounter({\"[['hood]]\": 3})\t\n",
      "'hood\tGhetto\t聚集區\t2\tCounter({\"[[ghetto|'hood]]\": 1, \"[[Ghetto|'hood]]\": 1})\t\n",
      "'hood\tNeighbourhood\t近鄰社區\t1\tCounter({\"[[Neighborhood|'hood]]\": 1})\t\n",
      "'Hood\tGhetto\t聚集區\t1\tCounter({\"[[Ghetto|'Hood]]\": 1})\t\n",
      "'Hood\t'Hood\t___\t1\tCounter({\"[['Hood]]\": 1})\t\n",
      "'Hood\t'Hood (film)\t___\t1\tCounter({\"[['Hood (film)|'Hood]]\": 1})\t\n",
      "'Hood\t'Hood (1998 film)\t___\t1\tCounter({\"[['Hood (1998 film)|'Hood]]\": 1})\t\n",
      ".22\t.22 caliber\t___\t83\tCounter({'[[.22]]': 66, '[[.22 caliber|.22]]': 16, '[[.22 calibre|.22]]': 1})\t\n",
      ".22-caliber\t.22 caliber\t___\t3\tCounter({'[[.22|.22-caliber]]': 3})\t\n",
      ".22-caliber\tCaliber\t口徑\t1\tCounter({'[[Caliber|.22-caliber]]': 1})\t\n",
      ".22_caliber\t.22_caliber\t___\t1\tCounter({'[[.22_caliber]]': 1})\t\n",
      ".38-caliber\t.38 caliber\t___\t3\tCounter({'[[.38 caliber|.38-caliber]]': 2, '[[.38 Caliber|.38-caliber]]': 1})\t\n",
      ".45-caliber\t11 mm caliber\t___\t3\tCounter({'[[.45 caliber|.45-caliber]]': 3})\t\n",
      "0\t0,\t0\t869\tCounter({'[[0 (number)|0]]': 867, '[[zero (number)|0]]': 2})\t\n",
      "0\t0s\t0年代\t49\tCounter({'[[0s]]': 48, '[[0s (decade)|0s]]': 1})\t\n",
      "0\tGonzalo Barrios (video game player)\t___\t5\tCounter({'[[zero|0]]': 3, '[[Zero|0]]': 2})\t\n",
      "0\tFormaldehyde\t甲醛\t4\tCounter({'[[Formaldehyde|0]]': 4})\t\n",
      "0\t0\t___\t4\tCounter({'[[0]]': 3, '[[0|0]]': 1})\t\n",
      "0\tZero Hour: Crisis in Time!\t___\t3\tCounter({'[[Zero Hour (comics)|0]]': 3})\t\n",
      "0\t0 (Low Roar album)\t___\t3\tCounter({'[[0 (Low Roar album)|0]]': 3})\t\n",
      "0\tRetirement\t退休\t2\tCounter({'[[Retirement|0]]': 2})\t\n",
      "0\tEquator\t赤道\t2\tCounter({'[[Equator|0]]': 2})\t\n",
      "0\tYear zero\t0年\t2\tCounter({'[[0 (year)|0]]': 2})\t\n",
      "0\tUnison: Rebels of Rhythm & Dance\t___\t2\tCounter({'[[unison|0]]': 1, '[[Unison|0]]': 1})\t\n",
      "0\tZero game\t___\t1\tCounter({'[[zero (game)|0]]': 1})\t\n",
      "0\tIdentity element\t單位元\t1\tCounter({'[[identity element|0]]': 1})\t\n",
      "0\tDuck (cricket)\t___\t1\tCounter({'[[duck (cricket)|0]]': 1})\t\n",
      "0\tAbsolute zero\t绝对零度\t1\tCounter({'[[absolute zero|0]]': 1})\t\n",
      "0\tTirich Mir\t蒂里杰米尔峰\t1\tCounter({'[[Tirich Mir|0]]': 1})\t\n",
      "0\tOxygen XML Editor\t___\t1\tCounter({'[[Oxygen|0]]': 1})\t\n",
      "0\tGreenwich Mean Time\t格林尼治標準時間\t1\tCounter({'[[Greenwich Mean Time|0]]': 1})\t\n",
      "0\tGhost town (disambiguation)\t___\t1\tCounter({'[[Ghost town|0]]': 1})\t\n",
      "0\tBy\tBY\t1\tCounter({'[[By|0]]': 1})\t\n",
      "0\t0 (Sandy Lam album)\t___\t1\tCounter({'[[0 (Sandy Lam album)|0]]': 1})\t\n",
      "0\t0 (Javanese)\t___\t1\tCounter({'[[0 (Javanese)|0]]': 1})\t\n"
     ]
    }
   ],
   "source": [
    "!head -35 en.link.redirect.txt"
   ]
  },
  {
   "cell_type": "code",
   "execution_count": 14,
   "metadata": {},
   "outputs": [
    {
     "name": "stdout",
     "output_type": "stream",
     "text": [
      "party\tPolitical party\t政党\t2306\tCounter({'[[Political party|party]]': 1068, '[[political party|party]]': 705, '[[political parties|parties]]': 244, '[[political party|parties]]': 216, '[[Political party|parties]]': 64, '[[Political parties|parties]]': 3, '[[Political Party|parties]]': 2, '[[Party (politics)|party]]': 2, '[[political parties|party]]': 1, '[[Political parties|party]]': 1})\t\n",
      "party\tParty\t派對\t868\tCounter({'[[party]]': 684, '[[parties]]': 86, '[[party|parties]]': 62, '[[Party|parties]]': 36})\t\n",
      "party\tNazi Party\t纳粹党\t258\tCounter({'[[Nazi Party|party]]': 240, '[[Nazi party|party]]': 18})\t\n",
      "party\tParty (law)\t___\t222\tCounter({'[[party (law)|party]]': 66, '[[Party (law)|party]]': 62, '[[Party (law)|parties]]': 52, '[[party (law)|parties]]': 42})\t\n",
      "party\tParty (role-playing games)\t___\t163\tCounter({'[[Party (role-playing games)|party]]': 118, '[[Party (role playing games)|party]]': 20, '[[Party (role-playing games)|parties]]': 14, '[[party (role-playing games)|party]]': 5, '[[Party (role playing games)|parties]]': 2, '[[party (role playing games)|party]]': 1, '[[party (gaming)|party]]': 1, '[[Party (video gaming)|party]]': 1, '[[Party (video games)|party]]': 1})\t\n",
      "party\tParty game\t聚会游戏\t110\tCounter({'[[Party game|party]]': 72, '[[party game|party]]': 36, '[[party game|parties]]': 1, '[[Party games|party]]': 1})\t\n",
      "party\tCommunist party\t共产党\t12\tCounter({'[[communist party|party]]': 3, '[[Communist party|parties]]': 3, '[[Communist Party|party]]': 3, '[[Communist party|party]]': 2, '[[Communist Party|parties]]': 1})\t\n",
      "party\tSocialist Party\t___\t3\tCounter({'[[Socialist Party|parties]]': 3})\t\n",
      "party\tLabour Party (UK)\t工党 (英国)\t3\tCounter({'[[Labour Party (UK)|party]]': 3})\t\n",
      "party\tRepublican Party (United States)\t共和黨 (美國)\t3\tCounter({'[[Republican Party (United States)|party]]': 2, '[[GOP|party]]': 1})\t\n",
      "party\tRepublican Party (Pakistan)\t___\t2\tCounter({'[[Republican Party (Pakistan)|party]]': 2})\t\n",
      "party\tRatification\t批准\t2\tCounter({'[[Ratification|parties]]': 2})\t\n",
      "party\tDemocratic Party (United States)\t民主党 (美国)\t2\tCounter({'[[Democratic Party (United States)|party]]': 2})\t\n",
      "party\tLawsuit\t訴訟\t2\tCounter({'[[litigant|party]]': 1, '[[litigant|parties]]': 1})\t\n",
      "party\tBolsheviks\t布尔什维克\t2\tCounter({'[[Bolshevik|party]]': 1, '[[Bolsheviks|party]]': 1})\t\n",
      "party\tRave\t銳舞\t1\tCounter({'[[rave|parties]]': 1})\t\n",
      "party\tPolitics\t政治\t1\tCounter({'[[politics|party]]': 1})\t\n",
      "party\tPlaintiff\t原告\t1\tCounter({'[[plaintiff|party]]': 1})\t\n",
      "party\tParty (disambiguation)\t___\t1\tCounter({'[[party (disambiguation)|party]]': 1})\t\n",
      "party\tBALL\t___\t1\tCounter({'[[ball|party]]': 1})\t\n",
      "party\tWhigs (British political party)\t輝格黨 (英國)\t1\tCounter({'[[Whig Party (UK)|party]]': 1})\t\n",
      "party\tSalon (gathering)\t沙龍 (聚會)\t1\tCounter({'[[Salon (gathering)|parties]]': 1})\t\n",
      "party\tPolitical_party\t___\t1\tCounter({'[[Political_party|party]]': 1})\t\n",
      "party\tPeople's Party (Spain)\t___\t1\tCounter({\"[[People's Party (Spain)|party]]\": 1})\t\n",
      "party\tNazi Party \t___\t1\tCounter({'[[Nazi Party |party]]': 1})\t\n",
      "party\tNazi Germany\t納粹德國\t1\tCounter({'[[Nazi Germany|party]]': 1})\t\n",
      "party\tLiberal Party (Philippines)\t菲律賓自由黨\t1\tCounter({'[[Liberal Party (Philippines)|party]]': 1})\t\n",
      "party\tLiberal Party (Hungary)\t___\t1\tCounter({'[[Liberal Party (Hungary)|party]]': 1})\t\n",
      "party\tKuomintang\t中國國民黨\t1\tCounter({'[[Kuomintang|party]]': 1})\t\n",
      "party\tHouse Party (film)\t___\t1\tCounter({'[[House Party (film)|party]]': 1})\t\n",
      "party\tGreen party\t綠黨\t1\tCounter({'[[Green party|parties]]': 1})\t\n",
      "party\tGreen Party (Sweden)\t綠色環境黨\t1\tCounter({'[[Green Party (Sweden)|parties]]': 1})\t\n",
      "party\tConservative Party (UK)\t保守黨 (英國)\t1\tCounter({'[[Conservative Party (UK)|party]]': 1})\t\n"
     ]
    }
   ],
   "source": [
    "!grep -P '^party\\t' en.link.redirect.txt"
   ]
  },
  {
   "cell_type": "markdown",
   "metadata": {},
   "source": [
    "<font face=\"微軟正黑體\" size=5>6. 找出標題和文章中的連結所對應的中文</font><br>"
   ]
  },
  {
   "cell_type": "markdown",
   "metadata": {},
   "source": [
    "<font face=\"微軟正黑體\" size=5>output1：en.link.graph.gz; 形式：  &lt;page_title&gt; \\n anchors </font><br>"
   ]
  },
  {
   "cell_type": "code",
   "execution_count": 50,
   "metadata": {},
   "outputs": [],
   "source": [
    "!bzgrep -P -o '(<title>[^\\<]+|\\[\\[[^]#:][^]:]*\\]\\])' enwiki-latest-pages-articles-multistream.xml.bz2 | sed 's/#.*|/|/g' | sed 's/#.*]]/]]/g' | gzip > en.link.graph.gz"
   ]
  },
  {
   "cell_type": "markdown",
   "metadata": {},
   "source": [
    "<font face=\"微軟正黑體\" size=5>output2：en.related.zh.link.txt; 形式：  page_title \\t zh_title \\t zh_titles_in_article</font><br>"
   ]
  },
  {
   "cell_type": "code",
   "execution_count": 58,
   "metadata": {},
   "outputs": [],
   "source": [
    "fp_r = open(\"en.related.zh.txt\", \"w\")\n",
    "\n",
    "for line in gzip.open('en.link.graph.gz','rt').readlines():\n",
    "    line = line.strip()\n",
    "    if line.startswith(\"<title>\"):\n",
    "        entry = line[len(\"<title>\"):]\n",
    "        fp_r.write(\"\\n\"+entry)\n",
    "        fp_r.write(\"\\t\"+langlink.get(redirect_link(entry), '___')+\"\\t\")\n",
    "    else:\n",
    "        link = line.split('|')[0][2:] if '|' in line else line[2:-2]\n",
    "        zh = langlink.get(redirect_link(link), '')\n",
    "        if len(zh) > 0:\n",
    "            fp_r.write(zh + \",\")\n",
    "fp_r.close()"
   ]
  },
  {
   "cell_type": "code",
   "execution_count": 71,
   "metadata": {},
   "outputs": [],
   "source": [
    "%%bash\n",
    "cat en.link.redirect.txt | cut -d $'\\t' -f2 | sed 's/^ *//' | sort | uniq > pages.txt\n",
    "\n",
    "join -t $'\\t' pages.txt <(sort en.related.zh.txt) > en.related.zh.link.txt\n"
   ]
  },
  {
   "cell_type": "code",
   "execution_count": 78,
   "metadata": {},
   "outputs": [],
   "source": [
    "! sed -i 's/,$//' en.related.zh.link.txt\n",
    "! sed -i '/^$/d' en.related.zh.link.txt"
   ]
  },
  {
   "cell_type": "code",
   "execution_count": 79,
   "metadata": {},
   "outputs": [
    {
     "name": "stdout",
     "output_type": "stream",
     "text": [
      "Party\t派對\t肯特郡,第二次世界大战,款待,社會化,休閒活動,节日,食物,饮料,音乐,舞蹈,娛樂,啤酒,Wine,蒸馏酒,名譽,超级碗,圣帕特里克十字,餐馆,英式酒吧,夜總會,酒吧,懺悔星期二,和平条约,生日蛋糕,生日,西方文化,气球,生日蛋糕,祝你生日快乐,成年禮,气球,晚餐,鸡尾酒,Wine,自助餐,小礼服,饮料,小菜,甜品,飯局,公园,園林,郊遊,燒烤,英國君主政體,巴士底日,鸡尾酒,小礼服,茶,下午茶,骨瓷,三明治,香蕉,蛋糕,小圆面包,曲奇,白金汉宫,白宮,婚宴,演講,學術研討會,自助餐,美術館,博物馆,策展人,国宴,民族舞蹈,亚述人,芝加哥,畢業舞會,方塊舞,舞会,社交舞,白領結,酒,面具,懺悔星期二,英格兰,美国,圣诞节,聖誕頌歌,我們祝你聖誕快樂,聖誕節的十二天,铃儿响叮当,聖誕老人進城來,圣善夜,流行樂團,柏林,House (音樂),Techno,迪斯科,唱片騎師,銳舞,House (音樂),Techno,工业音乐,MDMA,迷幻药物,北美洲,英国,澳大利亚,合法飲酒年齡,酒,未成年人,噪音,地下酒吧,飲,篝火,畢業舞會,畢業,友情,約會,性交,学校,慈善组织,企业,小彼得·勃鲁盖尔,婚宴,远藤周作,剧本,音樂劇,歌剧,电影,电视节目,婚礼,猶太教成人禮,婚礼,圣诞节,國際友誼日,懺悔星期二,澳大利亞日,墨爾本盃,加拿大日,維多利亞日,巴士底日,德國統一日,宗教改革日,玫瑰星期一,圣诞节,排燈節,侯丽节,纳吾肉孜节,圣帕特里克十字,逾越節,光明节,普珥節,五月五日节,怀唐伊日,巴基斯坦独立日,霍格莫內,仲夏節,篝火之夜,美国独立日,超级碗,感恩节 (美国),乌拉圭历史,圣诞节,復活節,懺悔星期二,圣帕特里克十字,古尔邦节,開齋節,光明节,逾越節,普珥節,燃燒人,燃燒人,滿月派對,Lollapalooza,白晝之夜,胡士托音樂節,加拿大,聚会游戏,聚会游戏,圖版遊戲,LAN party,局域网,直销,特百惠,選舉,睡衣派對,青少年,托加,丹佛,小龍蝦派對,节日,銳舞,群交,春假,婚宴\n",
      "Party (disambiguation)\t___\t第三党,派對,婚礼,政党,Xbox Live,独唱团,主机保护区域,The Miracle,第三党,游戏开发者\n",
      "Party (law)\t___\t個人,法律主體,法律,原告,被告,證人,訴訟,原告,被告,絕對權\n",
      "Party (role-playing games)\t___\t角色扮演游戏,桌上角色扮演遊戲,非玩家角色,遊戲主持者,大型多人在线角色扮演游戏,魔兽世界,戰鎚Online,最终幻想XI,等轴测投影,最终幻想XII\n",
      "Party Favor\t___\t橘郡風雲 (第三季)\n",
      "Party Whip (Canada)\t___\t加拿大,政党,加拿大下議院,加拿大參議院,加拿大行政区划,立法机构,黨團會議,黨鞭,少數派政府,不信任动议,黨紀,加拿大內閣,不管部长,加拿大改革黨,加拿大總理,约翰·亚历山大·麦克唐纳,亚历山大·麦肯齐,约翰·亚历山大·麦克唐纳,约翰·阿伯特,约翰·斯帕洛·戴维·汤普森,麦肯齐·鲍威尔,查尔斯·塔珀,威尔弗里德·劳雷尔,罗伯特·莱尔德·博登,阿瑟·米恩,威廉·莱昂·麦肯齐·金,阿瑟·米恩,威廉·莱昂·麦肯齐·金,理查德·贝德福德·贝内特,威廉·莱昂·麦肯齐·金,路易·圣洛朗,约翰·迪芬贝克,莱斯特·皮尔逊,皮埃尔·特鲁多,查尔斯·约瑟夫·克拉克,皮埃尔·特鲁多,马丁·布赖恩·马尔罗尼,金·坎贝尔,让·克雷蒂安,保罗·马丁,史蒂芬·哈珀,賈斯汀·杜魯多\n",
      "Party favor\t___\t派對,紀念品,婚礼,禮服,派對,玩具,禮物,感恩,新娘,新郎,婚礼,晶体,瓷器,寶石,食糖,扁桃,五彩紙屑糖果,保質期,气球,圣诞拉炮,螢光棒,彩色紙屑\n",
      "Party for Human and Spirit\t___\t中間偏左,荷蘭語,國會二院,阿纳姆,阿姆斯特丹,埃因霍温,荷蘭語,阿尔克马尔,格罗宁根,海尔德兰省,国内生产总值\n",
      "Party game\t聚会游戏\t首相你想點,游戏,娛樂,休閒活動,圖版遊戲,卡片遊戲,比手畫腳,杀手 (1986年游戏),紅綠燈 (遊戲),地產大亨,快艇骰子,美式賓果,投杯球,比手畫腳,传话游戏,妙不可言 (遊戲),酒令,杀手 (1986年游戏),谋杀之谜,天堂的七分鐘,轉瓶子,脫衣遊戲,抵抗组织,真心话大冒险,真心话大冒险,音樂椅,白象礼物交换,捉迷藏,音樂椅,音樂椅,捉迷藏,皮納塔,石头、剪子、布,十項全能,瑪利歐派對系列,遊戲節目,极速前进,圖版遊戲,多媒体,白象礼物交换,酒令,小游戏,休闲游戏\n",
      "Party leader\t政党领袖\t政党,代議民主制,西敏制,立法机构,加拿大,中国共产党,總書記,苏共中央主要负责人列表,中国共产党中央委员会总书记,中華人民共和國最高領導人,习近平,中国共产党中央委员会总书记,中国共产党第十八次全国代表大会,荷兰,荷蘭政黨列表,名單比例代表制,反對黨領袖,海尔特·维尔德斯,自由黨 (荷蘭),工黨 (荷蘭),國會二院,部長,荷蘭內閣,中華民國,民主進步黨,卓榮泰,中國國民黨,吳敦義,2017年中國國民黨主席選舉,議會黨團,工党 (英国),超级代表,批准,受膏,英国首相,鲍里斯·约翰逊,保守黨 (英國),杰里米·科爾賓,工党 (英国),反對黨領袖 (英國),美国总统,唐納·川普,美国副总统,迈克·彭斯,美国参议院,美国国会,美国参议院,美国众议院,美国参议院,美國參議院臨時議長,查克·葛雷斯利,米奇·麥康諾,約翰·圖恩,查克·舒默,迪克·德賓,凱文·麥卡錫,史蒂夫·斯卡利斯,斯坦利·霍耶,美國眾議院議長,南希·佩洛西,民主党 (美国),托马斯·佩雷斯,黨委書記\n",
      "Party line (politics)\t___\t政治,熟语,政党,社會運動,政治議程,黨性,黨鞭,马克思列宁主义,总路线,民主集中制,共产党,政治正確,宣言,政綱\n",
      "Party organizer\t___\t政党,美国版权法,加拿大\n",
      "Party platform\t政綱\t參選人,舞台,演講,辯論,宣言,中古法語,美國政治科學期刊,九十五条论纲,馬丁·路德,天主教會,新教,托马斯·潘恩,常識 (小冊子),大不列顛王國,十三殖民地,美国,罗伯特·皮尔,保守黨 (英國),托利党,弗里德里希·恩格斯,卡尔·马克思,共产党宣言,科学社会主义,社会主义,共产主义,富兰克林·德拉诺·罗斯福,罗斯福新政,民主党 (美国),公民权利和政治权利,林登·约翰逊,加拿大自由党,共和黨 (美國),美国国会,民主党 (美国),小冊子,民主制度分类,加利福尼亞大學聖塔芭芭拉分校\n",
      "Party wall\t___\t罗利 (北卡罗来纳州),韦克县 (北卡罗来纳州),北卡罗来纳州,土地界標,排屋,防火墙 (消防),租約,所有权,地役权,皇家特許測量師學會,倫敦大火,英格兰,威爾斯,美国,女兒牆,建筑声学,住宅,公寓大廈,墙\n",
      "Party whip (Australia)\t___\t澳大利亚议会,黨紀,黨鞭,法定人數,下議院國會議員領袖,下議院,澳大利亚自由党,澳大利亚工党,黨團會議,澳大利亚众议院,澳大利亞國家黨,澳大利亚联合党,澳大利亚自由党,澳大利亚工党,双重解散,金·比兹利,金·比兹利,民主工黨 (澳大利亞),2007年澳洲聯邦大選,羅伯特·孟席斯,澳大利亞總理\n"
     ]
    }
   ],
   "source": [
    "!grep '^Party' en.related.zh.link.txt"
   ]
  },
  {
   "cell_type": "code",
   "execution_count": 15,
   "metadata": {},
   "outputs": [
    {
     "name": "stdout",
     "output_type": "stream",
     "text": [
      "22820514\t'The_Birthday_Party_(album)'\t'Birthday_Party'\n",
      "38744420\t'Birthday_party_(disambiguation)'\t'Birthday_Party'\n",
      "39176408\t'Birthday_Party_(disambiguation)'\t'Birthday_Party'\n",
      "536391\t'The_Birthday_Party'\t'Birthday_Party'\n"
     ]
    }
   ],
   "source": [
    "!grep \"'Birthday_Party'\" en.redirect.txt"
   ]
  },
  {
   "cell_type": "code",
   "execution_count": 17,
   "metadata": {},
   "outputs": [
    {
     "name": "stdout",
     "output_type": "stream",
     "text": [
      "10113483\t'The_Birthday_Party_(film)'\n",
      "10813796\t'The_Birthday_Party_(Dynasty)'\n",
      "13867333\t'Happy_Birthday_(Birthday_Party_song)'\n",
      "14523090\t'The_Birthday_Party_(The_Birthday_Party_album)'\n",
      "16611852\t'The_Birthday_Party_(Motorhead_video)'\n",
      "17245702\t'Happy_Birthday_(1980_Birthday_Party_song)'\n",
      "191226\t'The_Birthday_Party_(band)'\n",
      "19682483\t'Birthday_Party_(TV_series)'\n",
      "21348335\t'The_Birthday_Party_(Birthday_Party_album)'\n",
      "21387145\t'The_Birthday_Party_(novel)'\n",
      "21563008\t'A_Collection_(The_Birthday_Party_album)'\n",
      "2190558\t'At_Your_Birthday_Party'\n",
      "22063607\t'The_Great_San_Bernardino_Birthday_Party_&_Other_Excursions'\n",
      "22113697\t'Ninetieth_Birthday_Party'\n",
      "22820514\t'The_Birthday_Party_(album)'\n",
      "23912734\t'Birthday_Party_Bash'\n",
      "24679243\t'A_Birthday_Party_for_Julia_Child:_Compliments_to_the_Chef'\n",
      "25680361\t'Arco_Birthday_Party'\n",
      "2767923\t'The_Birthday_Party_(play)'\n",
      "2853567\t'Birthday_Party_(band)'\n",
      "34248731\t'25th_Birthday_Party'\n",
      "36922776\t'The_Great_San_Bernardino_Birthday_Party_and_Other_Excursions'\n",
      "3775383\t'Eeyores_Birthday_Party'\n",
      "39176408\t'Birthday_Party_(disambiguation)'\n",
      "43161357\t'The_Birthday_Party_discography'\n",
      "53258876\t'At_Your_Birthday_Party_(album)'\n",
      "536391\t'The_Birthday_Party'\n",
      "5431279\t'The_Birthday_Party_(The_Idle_Race_album)'\n",
      "5434140\t'The_Birthday_Party_(video)'\n",
      "54726935\t'The_Birthday_Party_(1931_film)'\n",
      "55842285\t'Noddy_and_the_Birthday_Party'\n",
      "5682425\t'The_Birthday_Party_(Motörhead_video)'\n",
      "59263826\t'The_Birthday_Party_(song)'\n",
      "59263833\t'The_Birthday_Party_(The_1975_song)'\n",
      "6034050\t'The_Birthday_Party_(Play)'\n",
      "659219\t'Birthday_Party'\n",
      "8123462\t'Hee_Haw_(Birthday_Party_EP)'\n",
      "8123533\t'The_Birthday_Party_(The_Birthday_Party)'\n",
      "9181173\t'The_Birthday_Party_(My_Name_Is_Earl)'\n"
     ]
    }
   ],
   "source": [
    "!grep \"Birthday_Party\" en.page.id.txt"
   ]
  },
  {
   "cell_type": "code",
   "execution_count": 16,
   "metadata": {},
   "outputs": [
    {
     "name": "stdout",
     "output_type": "stream",
     "text": [
      "30520572\t'Birthday_party_(event)'\n",
      "30521682\t'Birthday_party'\n",
      "38744420\t'Birthday_party_(disambiguation)'\n"
     ]
    }
   ],
   "source": [
    "!grep \"Birthday_party\" en.page.id.txt"
   ]
  },
  {
   "cell_type": "code",
   "execution_count": 21,
   "metadata": {},
   "outputs": [],
   "source": [
    "!grep '^Birthday' en.link.redirect.txt # anchor Birthday would be removed because it is capitalized."
   ]
  },
  {
   "cell_type": "code",
   "execution_count": 19,
   "metadata": {},
   "outputs": [],
   "source": [
    "!zgrep \"#\" en.link.wn.gz"
   ]
  },
  {
   "cell_type": "code",
   "execution_count": 21,
   "metadata": {},
   "outputs": [
    {
     "name": "stdout",
     "output_type": "stream",
     "text": [
      "aaa\n"
     ]
    }
   ],
   "source": [
    "ll = \"aaa#bbb\"\n",
    "if \"#\" in ll:\n",
    "    ll = ll.split(\"#\")[0]\n",
    "print(ll)"
   ]
  },
  {
   "cell_type": "code",
   "execution_count": null,
   "metadata": {},
   "outputs": [],
   "source": []
  }
 ],
 "metadata": {
  "kernelspec": {
   "display_name": "Python 3",
   "language": "python",
   "name": "python3"
  },
  "language_info": {
   "codemirror_mode": {
    "name": "ipython",
    "version": 3
   },
   "file_extension": ".py",
   "mimetype": "text/x-python",
   "name": "python",
   "nbconvert_exporter": "python",
   "pygments_lexer": "ipython3",
   "version": "3.7.4"
  }
 },
 "nbformat": 4,
 "nbformat_minor": 2
}
