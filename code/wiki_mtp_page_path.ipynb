{
 "cells": [
  {
   "cell_type": "code",
   "execution_count": 14,
   "metadata": {},
   "outputs": [],
   "source": [
    "import networkx as nx\n",
    "import pickle\n",
    "import math\n",
    "import requests\n",
    "import matplotlib.pyplot as plt"
   ]
  },
  {
   "cell_type": "code",
   "execution_count": 18,
   "metadata": {},
   "outputs": [],
   "source": [
    "def make_graph():\n",
    "    with open('categ.pickle','rb') as file:\n",
    "        link_dict = pickle.load(file)\n",
    "    \n",
    "    pages = set()\n",
    "\n",
    "    for from_page in link_dict:\n",
    "        if from_page not in G:\n",
    "            G.add_node(from_page)\n",
    "        if len(from_page) <= 9 or from_page[:9] != 'Category:':\n",
    "            pages.add(from_page)\n",
    "        for to_page in link_dict[from_page]:\n",
    "            if to_page not in G:\n",
    "                G.add_node(to_page)\n",
    "            G.add_edge(from_page, to_page)\n",
    "\n",
    "def make_query(PARAMS):\n",
    "    S = requests.Session()\n",
    "    URL = \"https://en.wikipedia.org/w/api.php\"\n",
    "    R = S.get(url=URL, params=PARAMS)\n",
    "    \n",
    "    return R.json()\n",
    "def get_subcat(wikicat, limit):\n",
    "    PARAMS = {\n",
    "        \"action\":\"query\",\n",
    "        \"format\":\"json\",\n",
    "        \"list\":\"categorymembers\",\n",
    "        \"cmtitle\":wikicat,\n",
    "        \"cmlimit\":limit,\n",
    "        \"cmtype\":\"subcat\",\n",
    "    }\n",
    "    DATA = make_query(PARAMS)\n",
    "    return [cat['title'] for cat in DATA['query']['categorymembers']]\n",
    "\n",
    "def shortest(cat):\n",
    "        try:\n",
    "            l = nx.shortest_path_length(G, page, cat)\n",
    "        except:\n",
    "            return math.inf\n",
    "        else:\n",
    "            return l\n",
    "\n",
    "def get_nearest_main_topic(p):\n",
    "    global page\n",
    "    page = p\n",
    "    nearest_main_topic = min(cats, key=shortest)\n",
    "    if nx.has_path(G, page, nearest_main_topic):\n",
    "        return nearest_main_topic\n",
    "    else:\n",
    "        return\n",
    "\n",
    "    \n",
    "    \n",
    "    \n",
    "\n",
    "G = nx.DiGraph()\n",
    "make_graph()\n",
    "cats = get_subcat('Category:Main_topic_classifications', limit=40)"
   ]
  },
  {
   "cell_type": "code",
   "execution_count": 16,
   "metadata": {},
   "outputs": [
    {
     "data": {
      "text/plain": [
       "'Category:Events'"
      ]
     },
     "execution_count": 16,
     "metadata": {},
     "output_type": "execute_result"
    }
   ],
   "source": [
    "get_nearest_main_topic('Party')"
   ]
  },
  {
   "cell_type": "code",
   "execution_count": 5,
   "metadata": {},
   "outputs": [
    {
     "data": {
      "text/plain": [
       "'Category:Law'"
      ]
     },
     "execution_count": 5,
     "metadata": {},
     "output_type": "execute_result"
    }
   ],
   "source": [
    "get_nearest_main_topic('Party (law)')"
   ]
  },
  {
   "cell_type": "code",
   "execution_count": 6,
   "metadata": {},
   "outputs": [
    {
     "data": {
      "text/plain": [
       "'Category:Government'"
      ]
     },
     "execution_count": 6,
     "metadata": {},
     "output_type": "execute_result"
    }
   ],
   "source": [
    "get_nearest_main_topic('Political party')"
   ]
  },
  {
   "cell_type": "code",
   "execution_count": 7,
   "metadata": {},
   "outputs": [
    {
     "data": {
      "text/plain": [
       "'Category:Human behavior'"
      ]
     },
     "execution_count": 7,
     "metadata": {},
     "output_type": "execute_result"
    }
   ],
   "source": [
    "get_nearest_main_topic('Mandevilla')"
   ]
  },
  {
   "cell_type": "code",
   "execution_count": 11,
   "metadata": {},
   "outputs": [
    {
     "data": {
      "text/plain": [
       "'Name: \\nType: DiGraph\\nNumber of nodes: 2346031\\nNumber of edges: 4927674\\nAverage in degree:   2.1004\\nAverage out degree:   2.1004'"
      ]
     },
     "execution_count": 11,
     "metadata": {},
     "output_type": "execute_result"
    }
   ],
   "source": [
    "nx.info(G)"
   ]
  },
  {
   "cell_type": "code",
   "execution_count": 12,
   "metadata": {},
   "outputs": [
    {
     "data": {
      "text/plain": [
       "['Category:Main topic articles',\n",
       " 'Category:Academic disciplines',\n",
       " 'Category:Business',\n",
       " 'Category:Concepts',\n",
       " 'Category:Crime',\n",
       " 'Category:Culture',\n",
       " 'Category:Economy',\n",
       " 'Category:Education',\n",
       " 'Category:Energy',\n",
       " 'Category:Entertainment',\n",
       " 'Category:Events',\n",
       " 'Category:Food and drink',\n",
       " 'Category:Geography',\n",
       " 'Category:Government',\n",
       " 'Category:Health',\n",
       " 'Category:History',\n",
       " 'Category:Human behavior',\n",
       " 'Category:Humanities',\n",
       " 'Category:Knowledge',\n",
       " 'Category:Language',\n",
       " 'Category:Law',\n",
       " 'Category:Life',\n",
       " 'Category:Mathematics',\n",
       " 'Category:Military',\n",
       " 'Category:Mind',\n",
       " 'Category:Music',\n",
       " 'Category:Nature',\n",
       " 'Category:Objects',\n",
       " 'Category:Organizations',\n",
       " 'Category:People',\n",
       " 'Category:Philosophy',\n",
       " 'Category:Politics',\n",
       " 'Category:Religion',\n",
       " 'Category:Science',\n",
       " 'Category:Society',\n",
       " 'Category:Sports',\n",
       " 'Category:Technology',\n",
       " 'Category:Universe',\n",
       " 'Category:World']"
      ]
     },
     "execution_count": 12,
     "metadata": {},
     "output_type": "execute_result"
    }
   ],
   "source": [
    "cats"
   ]
  },
  {
   "cell_type": "code",
   "execution_count": 31,
   "metadata": {},
   "outputs": [],
   "source": [
    "def draw_cat_path(p):\n",
    "    n_mt=get_nearest_main_topic(p)\n",
    "    paths = nx.shortest_path(G, source= p, target=n_mt)\n",
    "    print(nx.shortest_path(G, source= p, target=n_mt))\n",
    "    G_sp = nx.DiGraph()\n",
    "    for path in paths:\n",
    "        nx.add_path(G_sp, paths)\n",
    "    nx.draw(G_sp)\n",
    "    plt.show()    "
   ]
  },
  {
   "cell_type": "code",
   "execution_count": 33,
   "metadata": {},
   "outputs": [
    {
     "name": "stdout",
     "output_type": "stream",
     "text": [
      "['Political party', 'Category:Elections', 'Category:Government']\n"
     ]
    },
    {
     "data": {
      "image/png": "[encoded data removed]",
      "text/plain": [
       "<Figure size 432x288 with 1 Axes>"
      ]
     },
     "metadata": {},
     "output_type": "display_data"
    }
   ],
   "source": [
    "draw_cat_path('Political party')"
   ]
  },
  {
   "cell_type": "code",
   "execution_count": null,
   "metadata": {},
   "outputs": [],
   "source": []
  }
 ],
 "metadata": {
  "kernelspec": {
   "display_name": "Python 3",
   "language": "python",
   "name": "python3"
  },
  "language_info": {
   "codemirror_mode": {
    "name": "ipython",
    "version": 3
   },
   "file_extension": ".py",
   "mimetype": "text/x-python",
   "name": "python",
   "nbconvert_exporter": "python",
   "pygments_lexer": "ipython3",
   "version": "3.7.4"
  }
 },
 "nbformat": 4,
 "nbformat_minor": 2
}
